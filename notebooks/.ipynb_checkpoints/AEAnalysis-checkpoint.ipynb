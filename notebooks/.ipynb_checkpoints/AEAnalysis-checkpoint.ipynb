{
 "cells": [
  {
   "cell_type": "code",
   "execution_count": 7,
   "metadata": {
    "pycharm": {
     "name": "#%%\n"
    }
   },
   "outputs": [],
   "source": [
    "import numpy as np\n",
    "import matplotlib.pyplot as plt\n",
    "import torch\n",
    "from dataset import get_datasets\n",
    "from models import Autoencoder, VariationalAutoencoder, LitAutoencoder, LitVariationalAutoencoder"
   ]
  },
  {
   "cell_type": "markdown",
   "metadata": {
    "pycharm": {
     "name": "#%%\n"
    }
   },
   "source": [
    "# Load models"
   ]
  },
  {
   "cell_type": "code",
   "execution_count": 16,
   "metadata": {},
   "outputs": [],
   "source": [
    "ae = LitAutoencoder.load_from_checkpoint(\n",
    "    r'../lightning_logs/version_2/checkpoints/epoch=19-step=95999.ckpt',\n",
    "    autoencoder=Autoencoder(100)\n",
    ").autoencoder\n",
    "\n",
    "vae = LitVariationalAutoencoder.load_from_checkpoint(\n",
    "    r'../lightning_logs/version_4/checkpoints/epoch=11-step=57599.ckpt',\n",
    "    autoencoder=VariationalAutoencoder(z_size=100)\n",
    ").autoencoder"
   ]
  },
  {
   "cell_type": "markdown",
   "metadata": {
    "pycharm": {
     "name": "#%%\n"
    }
   },
   "source": [
    "# Compare reconstruction"
   ]
  },
  {
   "cell_type": "code",
   "execution_count": null,
   "metadata": {},
   "outputs": [],
   "source": []
  },
  {
   "cell_type": "markdown",
   "metadata": {},
   "source": [
    "# Compare generation"
   ]
  },
  {
   "cell_type": "code",
   "execution_count": null,
   "metadata": {},
   "outputs": [],
   "source": []
  }
 ],
 "metadata": {
  "kernelspec": {
   "display_name": "PyCharm (Autoencoders)",
   "language": "python",
   "name": "pycharm-89fc727c"
  },
  "language_info": {
   "codemirror_mode": {
    "name": "ipython",
    "version": 3
   },
   "file_extension": ".py",
   "mimetype": "text/x-python",
   "name": "python",
   "nbconvert_exporter": "python",
   "pygments_lexer": "ipython3",
   "version": "3.8.5"
  }
 },
 "nbformat": 4,
 "nbformat_minor": 1
}
