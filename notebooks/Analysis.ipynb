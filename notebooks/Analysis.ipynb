{
 "cells": [
  {
   "cell_type": "code",
   "execution_count": 1,
   "metadata": {
    "pycharm": {
     "name": "#%%\n"
    }
   },
   "outputs": [],
   "source": [
    "import numpy as np\n",
    "import matplotlib.pyplot as plt\n",
    "import torch\n",
    "from dataset import get_datasets\n",
    "from models import Autoencoder, VariationalAutoencoder, LitAutoencoder, LitVariationalAutoencoder"
   ]
  },
  {
   "cell_type": "code",
   "execution_count": 2,
   "metadata": {
    "pycharm": {
     "name": "#%%\n"
    }
   },
   "outputs": [],
   "source": [
    "Z_SIZE_AE = 10\n",
    "Z_SIZE_VAE = 10"
   ]
  },
  {
   "cell_type": "code",
   "execution_count": 3,
   "metadata": {
    "pycharm": {
     "name": "#%%\n"
    }
   },
   "outputs": [],
   "source": [
    "VAE_PATH = '../lightning_logs/version_1/checkpoints/epoch=18-step=91199.ckpt'\n",
    "AE_PATH = '../lightning_logs/version_4/checkpoints/epoch=29-step=143999.ckpt'"
   ]
  },
  {
   "cell_type": "code",
   "execution_count": 4,
   "metadata": {
    "pycharm": {
     "name": "#%%\n"
    }
   },
   "outputs": [],
   "source": [
    "_, _, data = get_datasets(batch_size=1, root='../data', download=False)"
   ]
  },
  {
   "cell_type": "markdown",
   "metadata": {
    "pycharm": {
     "name": "#%% md\n"
    }
   },
   "source": [
    "# Load models"
   ]
  },
  {
   "cell_type": "code",
   "execution_count": 5,
   "metadata": {
    "pycharm": {
     "name": "#%%\n"
    }
   },
   "outputs": [],
   "source": [
    "ae = LitAutoencoder.load_from_checkpoint(\n",
    "    AE_PATH,\n",
    "    autoencoder=Autoencoder(Z_SIZE_AE)\n",
    ").autoencoder"
   ]
  },
  {
   "cell_type": "code",
   "execution_count": 6,
   "metadata": {},
   "outputs": [],
   "source": [
    "vae = LitVariationalAutoencoder.load_from_checkpoint(\n",
    "    VAE_PATH,\n",
    "    autoencoder=VariationalAutoencoder(z_size=Z_SIZE_VAE)\n",
    ").autoencoder"
   ]
  },
  {
   "cell_type": "markdown",
   "metadata": {
    "pycharm": {
     "name": "#%% md\n"
    }
   },
   "source": [
    "# Compare reconstruction"
   ]
  },
  {
   "cell_type": "code",
   "execution_count": 7,
   "metadata": {},
   "outputs": [],
   "source": [
    "def sample_reconstruction(ae, vae, iterator, samples=3, **kwargs):\n",
    "    fig, ax = plt.subplots(3, samples, **kwargs)\n",
    "    ae.cuda().eval()\n",
    "    vae.cuda().eval()\n",
    "    for i in range(samples):\n",
    "        with torch.no_grad():\n",
    "            x, y = next(iterator)\n",
    "            rec_ae = ae(x.cuda())[0].cpu()\n",
    "            rec_vae = vae(x.cuda())[0].cpu()\n",
    "        ax_original, ax_ae, ax_vae = ax[0, i], ax[1, i], ax[2, i]\n",
    "        # print original image\n",
    "        ax_original.set_title(f'Label: {y} original')\n",
    "        ax_original.imshow(x.reshape(28, 28), cmap='gray')\n",
    "        ax_original.set_xticks([]), ax_original.set_yticks([])\n",
    "\n",
    "        # print ae reconstruction\n",
    "        ax_ae.set_title(f'Label: {y} AE')\n",
    "        ax_ae.imshow(rec_ae.reshape(28, 28), cmap='gray')\n",
    "        ax_ae.set_xticks([]), ax_ae.set_yticks([])\n",
    "\n",
    "        # print vae reconstruction\n",
    "        ax_vae.set_title(f'Label: {y} VAE')\n",
    "        ax_vae.imshow(rec_vae.reshape(28, 28), cmap='gray')\n",
    "        ax_vae.set_xticks([]), ax_vae.set_yticks([])\n",
    "    fig.tight_layout()\n",
    "    plt.show()"
   ]
  },
  {
   "cell_type": "code",
   "execution_count": null,
   "metadata": {
    "pycharm": {
     "name": "#%%\n"
    }
   },
   "outputs": [],
   "source": [
    "iterator = iter(data)\n",
    "sample_reconstruction(ae, vae, iterator, figsize=(10, 10))"
   ]
  },
  {
   "cell_type": "markdown",
   "metadata": {
    "pycharm": {
     "name": "#%% md\n"
    }
   },
   "source": [
    "# Test generation"
   ]
  },
  {
   "cell_type": "code",
   "execution_count": null,
   "metadata": {
    "pycharm": {
     "name": "#%%\n"
    }
   },
   "outputs": [],
   "source": [
    "def generate_sample(ae, vae, z_size=100, samples=3, **kwargs):\n",
    "    fig, ax = plt.subplots(2, samples, **kwargs)\n",
    "    ae.cuda().eval()\n",
    "    vae.cuda().eval()\n",
    "    for i in range(samples):\n",
    "        with torch.no_grad():\n",
    "            noise = torch.randn(z_size).cuda()\n",
    "            img_ae = ae.decoder(noise).cpu()\n",
    "            img_vae = vae.decoder(noise)[0].cpu()\n",
    "        ax_ae, ax_vae = ax[0, i], ax[1, i]\n",
    "\n",
    "        ax_ae.set_title('AE')\n",
    "        ax_ae.imshow(img_ae.reshape(28, 28), cmap='gray')\n",
    "        ax_ae.set_xticks([]), ax_ae.set_yticks([])\n",
    "\n",
    "        ax_vae.set_title('VAE')\n",
    "        ax_vae.imshow(img_vae.reshape(28, 28), cmap='gray')\n",
    "        ax_vae.set_xticks([]), ax_vae.set_yticks([])\n",
    "    fig.tight_layout()\n",
    "    plt.show()"
   ]
  },
  {
   "cell_type": "code",
   "execution_count": null,
   "metadata": {
    "pycharm": {
     "name": "#%%\n"
    }
   },
   "outputs": [],
   "source": [
    "generate_sample(ae, vae, z_size=10, samples=3, figsize=(10, 10))"
   ]
  },
  {
   "cell_type": "markdown",
   "metadata": {
    "pycharm": {
     "name": "#%%\n"
    }
   },
   "source": [
    "# Check distribution of z vector in VAE"
   ]
  },
  {
   "cell_type": "code",
   "execution_count": 24,
   "metadata": {},
   "outputs": [],
   "source": [
    "def check_dimensionality(vae, z_size, data):\n",
    "    latents = np.zeros((len(data), z_size))\n",
    "    vae.cuda()\n",
    "    for i, (x, _) in enumerate(data):\n",
    "        latent = vae.encoder(x.cuda())[0].cpu().detach().numpy()\n",
    "        latents[i] = latent\n",
    "    return latents"
   ]
  },
  {
   "cell_type": "code",
   "execution_count": 26,
   "metadata": {},
   "outputs": [],
   "source": [
    "distribution = check_dimensionality(vae, Z_SIZE_VAE, data)"
   ]
  },
  {
   "cell_type": "code",
   "execution_count": 37,
   "metadata": {},
   "outputs": [],
   "source": [
    "def normal_distribution(mean, sigma):\n",
    "    \n",
    "    def _normal(x):\n",
    "        return np.exp(-np.square(x-mean)/2 * sigma ** 2)/(np.sqrt(2*np.pi*sigma**2))\n",
    "    return _normal"
   ]
  },
  {
   "cell_type": "code",
   "execution_count": 105,
   "metadata": {},
   "outputs": [],
   "source": [
    "def plot_distribution(latents, bins=15, max_dim=10):\n",
    "    fig, ax = plt.subplots(2, max_dim // 2, figsize=(20, 8))\n",
    "    for i in range(max_dim // 2):\n",
    "        for j in range(2):\n",
    "            idx = i * 2 + j\n",
    "            dist = latents[:, idx]\n",
    "            ax[j, i].set_title(f'Dimension: {idx}')\n",
    "            ax[j, i].hist(dist, bins=bins)\n",
    "    fig.tight_layout()\n",
    "    plt.show()"
   ]
  },
  {
   "cell_type": "code",
   "execution_count": 106,
   "metadata": {},
   "outputs": [
    {
     "data": {
      "image/png": "[encoded data removed]",
      "text/plain": [
       "<Figure size 1440x576 with 10 Axes>"
      ]
     },
     "metadata": {
      "needs_background": "light"
     },
     "output_type": "display_data"
    }
   ],
   "source": [
    "plot_distribution(distribution)"
   ]
  },
  {
   "cell_type": "code",
   "execution_count": null,
   "metadata": {},
   "outputs": [],
   "source": []
  }
 ],
 "metadata": {
  "kernelspec": {
   "display_name": "PyCharm (Autoencoders)",
   "language": "python",
   "name": "pycharm-89fc727c"
  },
  "language_info": {
   "codemirror_mode": {
    "name": "ipython",
    "version": 3
   },
   "file_extension": ".py",
   "mimetype": "text/x-python",
   "name": "python",
   "nbconvert_exporter": "python",
   "pygments_lexer": "ipython3",
   "version": "3.8.5"
  }
 },
 "nbformat": 4,
 "nbformat_minor": 1
}
